{
  "cells": [
    {
      "cell_type": "markdown",
      "metadata": {
        "collapsed": false,
        "jupyter": {
          "outputs_hidden": false
        }
      },
      "source": [
        "### Case - [Pierre-Antoine Denarié]"
      ]
    },
    {
      "cell_type": "markdown",
      "metadata": {},
      "source": [
        "### TL;DR\n",
        "Objective: predict the time it takes for a bus to travel from first to final stop, at any given point in the future.\n",
        "\n",
        "Points to work out:\n",
        "- correlation between checkin data & scheduling ties length/delta in prediction --> create feature delta time\n",
        "- Join checkin data with scheduling data --> PCA\n",
        "- correlation between stoparea code & join of number of checkins during said Journey\n",
        "\n",
        "Plots:\n",
        "- plot checkins over time\n",
        "\n",
        "features to create:\n",
        "- split checkin data\n",
        "- feature delta time\n"
      ]
    },
    {
      "cell_type": "markdown",
      "metadata": {},
      "source": [
        "### Housekeeping & Imports"
      ]
    },
    {
      "cell_type": "code",
      "execution_count": 1,
      "metadata": {},
      "outputs": [],
      "source": [
        "# Clear all variables from the workspace\n",
        "%reset -f"
      ]
    },
    {
      "cell_type": "code",
      "execution_count": 2,
      "metadata": {
        "ExecuteTime": {
          "end_time": "2025-03-19T02:41:50.594155Z",
          "start_time": "2025-03-19T02:41:50.574436Z"
        },
        "collapsed": false,
        "jupyter": {
          "outputs_hidden": false
        }
      },
      "outputs": [
        {
          "name": "stderr",
          "output_type": "stream",
          "text": [
            "INFO: Pandas backend loaded 2.3.1\n",
            "INFO: Numpy backend loaded 2.1.3\n",
            "INFO: Pyspark backend NOT loaded\n",
            "INFO: Python backend loaded\n"
          ]
        },
        {
          "data": {
            "text/html": [
              "\n",
              "            <div>\n",
              "                <ins><a href=\"https://ydata.ai/register\">Upgrade to ydata-sdk</a></ins>\n",
              "                <p>\n",
              "                    Improve your data and profiling with ydata-sdk, featuring data quality scoring, redundancy detection, outlier identification, text validation, and synthetic data generation.\n",
              "                </p>\n",
              "            </div>\n",
              "            "
            ],
            "text/plain": [
              "<IPython.core.display.HTML object>"
            ]
          },
          "metadata": {},
          "output_type": "display_data"
        }
      ],
      "source": [
        "### Package Imports\n",
        "# System\n",
        "from __future__ import annotations\n",
        "import os\n",
        "from pathlib import Path\n",
        "import re\n",
        "import logging\n",
        "from typing import Dict\n",
        "from functools import partial\n",
        "\n",
        "# Data\n",
        "import numpy as np\n",
        "import pandas as pd\n",
        "\n",
        "# Own packages\n",
        "from src.myfunctions import *\n",
        "\n",
        "# Import visualisation libraries\n",
        "import matplotlib.pyplot as plt\n",
        "from ydata_profiling import ProfileReport\n",
        "\n",
        "# Pretty display for notebooks\n",
        "%matplotlib inline\n",
        "\n",
        "# Setup Logging\n",
        "logging.basicConfig(level=logging.INFO, format=\"%(levelname)s: %(message)s\")\n"
      ]
    },
    {
      "cell_type": "code",
      "execution_count": 3,
      "metadata": {
        "tags": [
          "parameters"
        ]
      },
      "outputs": [],
      "source": [
        "# Parameter\n",
        "DATA_DIR = \"Data\"\n",
        "DATA_RAW_DIR = DATA_DIR + \"/Raw\"\n",
        "PROCESSED_DIR = DATA_DIR + \"/Processed\"\n",
        "\n",
        "REPORTS : str = \"Reports\"\n",
        "PROFILING : str = REPORTS + \"/Profiling\""
      ]
    },
    {
      "cell_type": "markdown",
      "metadata": {},
      "source": [
        "### Data Loading"
      ]
    },
    {
      "cell_type": "code",
      "execution_count": 4,
      "metadata": {
        "trusted": true
      },
      "outputs": [
        {
          "name": "stderr",
          "output_type": "stream",
          "text": [
            "INFO: Loaded bus_trips from bus_trips.csv | shape=(591766, 11)\n",
            "INFO: Loaded check_ins from check_ins.csv | shape=(41923, 2)\n",
            "INFO: Loaded stops from stops.csv | shape=(5636, 3)\n"
          ]
        },
        {
          "name": "stdout",
          "output_type": "stream",
          "text": [
            "dict_keys(['bus_trips', 'check_ins', 'stops'])\n"
          ]
        }
      ],
      "source": [
        "# Clean Data imports\n",
        "dfs = load_csv_folder(DATA_RAW_DIR)\n",
        "print(dfs.keys())"
      ]
    },
    {
      "cell_type": "markdown",
      "metadata": {},
      "source": [
        "### Data exploration"
      ]
    },
    {
      "cell_type": "code",
      "execution_count": 5,
      "metadata": {},
      "outputs": [
        {
          "name": "stderr",
          "output_type": "stream",
          "text": [
            "INFO: Generated profiling report for bus_trips\n",
            "INFO: Generated profiling report for check_ins\n",
            "INFO: Generated profiling report for stops\n"
          ]
        }
      ],
      "source": [
        "# Generate profling reports\n",
        "df_profiles = generate_profiling_reports(dfs, title=\"Data Profiling Report\")"
      ]
    },
    {
      "cell_type": "code",
      "execution_count": 6,
      "metadata": {},
      "outputs": [
        {
          "name": "stderr",
          "output_type": "stream",
          "text": [
            "INFO: Opened profiling report for bus_trips\n",
            "INFO: Opened profiling report for check_ins\n",
            "INFO: Opened profiling report for stops\n"
          ]
        }
      ],
      "source": [
        "# View profiling reports\n",
        "display_profiling_reports_web(profiles=df_profiles)"
      ]
    },
    {
      "cell_type": "code",
      "execution_count": 10,
      "metadata": {},
      "outputs": [
        {
          "name": "stderr",
          "output_type": "stream",
          "text": [
            "INFO: ▶ bus_trips: 0 steps\n",
            "INFO: ▶ check_ins: 1 steps\n",
            "INFO:   - add_feature: (41923, 2) -> (41923, 3) (228 ms)\n",
            "INFO: ▶ stops: 0 steps\n",
            "ERROR: Error generating profiling report for bus_trips: 'id_Datetime'\n",
            "INFO: Generated profiling report for check_ins\n",
            "ERROR: Error generating profiling report for stops: 'id_Datetime'\n",
            "100%|██████████| 3/3 [00:19<00:00,  6.65s/it]\n",
            "INFO: Saved profiling report for check_ins\n",
            "INFO: Opened profiling report for check_ins\n"
          ]
        }
      ],
      "source": [
        "# Display time series data\n",
        "pipeline = {\n",
        "    \"check_ins\": [\n",
        "        Step(\"add_feature\", when=has_cols(\"id\"), fn=partial(add_feature, src=\"id\", dest='id_Datetime', function=parse_time_column))\n",
        "    ]\n",
        "}\n",
        "\n",
        "dfs_processed = run_pipeline(dfs, pipeline)\n",
        "display_profiling_reports_web(generate_profiling_reports(dfs_processed, title=\"Data Profiling Processed Report\", timeseries=True, sortby=\"id_Datetime\"), refresh_results=True)\n"
      ]
    },
    {
      "cell_type": "code",
      "execution_count": null,
      "metadata": {},
      "outputs": [],
      "source": [
        "def inspect_duplicate_rows(df: pd.DataFrame, example_index: int) -> pd.DataFrame:\n",
        "    \"\"\"\n",
        "    Inspect duplicate rows in a DataFrame by a single example.\n",
        "\n",
        "    Args:\n",
        "        df (pd.DataFrame): The DataFrame to inspect.\n",
        "        example_index (int): The index of the example row to match against.\n",
        "\n",
        "    Returns:\n",
        "        pd.DataFrame: A DataFrame containing the duplicate rows.\n",
        "    \"\"\"\n",
        "    return df[(df == df.iloc[example_index]).all(axis=1)]\n",
        "\n",
        "\n",
        "def count_duplicate_rows(df: pd.DataFrame) -> pd.Series:\n",
        "    \"\"\"\n",
        "    Count duplicate rows in a DataFrame.\n",
        "\n",
        "    Args:\n",
        "        df (pd.DataFrame): The DataFrame to inspect.\n",
        "\n",
        "    Returns:\n",
        "        pd.Series: A Series containing the count of duplicate rows.\n",
        "    \"\"\"\n",
        "\n",
        "    df_copy: pd.DataFrame = df.copy()\n",
        "    df_copy['__duplicate_count__'] = 0\n",
        "\n",
        "    while df_copy.shape[0] > 0:\n",
        "        # Duplicates\n",
        "        duplicates_indices = (df_copy == df_copy.iloc[0]).all(axis=1)\n",
        "        duplicate_count = duplicates_indices.sum()\n",
        "\n",
        "        df_copy.loc[duplicates_indices, '__duplicate_count__'] = duplicate_count\n",
        "\n",
        "        # Remove the inspected duplicate rows from the DataFrame\n",
        "        df_copy = df_copy[~duplicates_indices]\n",
        "\n",
        "    return df_copy['__duplicate_count__']\n"
      ]
    },
    {
      "cell_type": "code",
      "execution_count": 59,
      "metadata": {},
      "outputs": [
        {
          "data": {
            "text/plain": [
              "0         4\n",
              "1         4\n",
              "2         4\n",
              "3         4\n",
              "4         4\n",
              "         ..\n",
              "591761    2\n",
              "591762    2\n",
              "591763    2\n",
              "591764    2\n",
              "591765    2\n",
              "Length: 591766, dtype: int64"
            ]
          },
          "execution_count": 59,
          "metadata": {},
          "output_type": "execute_result"
        }
      ],
      "source": [
        "count_duplicate_rows(dfs['bus_trips'])"
      ]
    },
    {
      "cell_type": "code",
      "execution_count": 83,
      "metadata": {},
      "outputs": [],
      "source": [
        "from typing import Sequence\n",
        "\n",
        "def duplicate_count_per_row(\n",
        "    df: pd.DataFrame,\n",
        "    subset: Sequence[str] | None = None,\n",
        "    *,\n",
        "    treat_na_as_equal: bool = True,\n",
        "    return_series: bool = True\n",
        ") -> pd.DataFrame|pd.Series:\n",
        "    \"\"\"\n",
        "    For each original row, return the size of its duplicate group.\n",
        "\n",
        "    Returns a Series aligned with `df.index`.\n",
        "    \"\"\"\n",
        "    cols = list(df.columns) if subset is None else list(subset)\n",
        "\n",
        "    if treat_na_as_equal:\n",
        "        sizes = (df\n",
        "                 .groupby(cols, dropna=False)\n",
        "                 .size()\n",
        "                 .rename(\"__dup_count__\")\n",
        "                 .reset_index())\n",
        "        if return_series:\n",
        "            result = df[cols].merge(sizes, on=cols, how=\"left\")[\"__dup_count__\"]\n",
        "        else:\n",
        "            result = df[cols].merge(sizes, on=cols, how=\"left\")\n",
        "    else:\n",
        "        mask = df[cols].notna().all(axis=1)\n",
        "        sizes = (df.loc[mask, cols]\n",
        "                 .groupby(cols, dropna=False)\n",
        "                 .size()\n",
        "                 .rename(\"__dup_count__\")\n",
        "                 .reset_index())\n",
        "        if return_series:\n",
        "            result = df[cols].merge(sizes, on=cols, how=\"left\")[\"__dup_count__\"].fillna(1)\n",
        "        else:\n",
        "            result = df[cols].merge(sizes, on=cols, how=\"left\")\n",
        "    result.index = df.index\n",
        "    result.name = \"duplicate_count\"\n",
        "    return result"
      ]
    },
    {
      "cell_type": "code",
      "execution_count": 86,
      "metadata": {},
      "outputs": [
        {
          "data": {
            "text/plain": [
              "duplicate_count\n",
              "2    308080\n",
              "4    283672\n",
              "1        14\n",
              "Name: count, dtype: int64"
            ]
          },
          "execution_count": 86,
          "metadata": {},
          "output_type": "execute_result"
        }
      ],
      "source": [
        "# 2) Keep all rows but know how many identical rows each belongs to\n",
        "duplicate_count_per_row(dfs['bus_trips'], return_series=True).value_counts()"
      ]
    },
    {
      "cell_type": "code",
      "execution_count": 87,
      "metadata": {},
      "outputs": [
        {
          "data": {
            "text/html": [
              "<div>\n",
              "<style scoped>\n",
              "    .dataframe tbody tr th:only-of-type {\n",
              "        vertical-align: middle;\n",
              "    }\n",
              "\n",
              "    .dataframe tbody tr th {\n",
              "        vertical-align: top;\n",
              "    }\n",
              "\n",
              "    .dataframe thead th {\n",
              "        text-align: right;\n",
              "    }\n",
              "</style>\n",
              "<table border=\"1\" class=\"dataframe\">\n",
              "  <thead>\n",
              "    <tr style=\"text-align: right;\">\n",
              "      <th></th>\n",
              "      <th>lineplanningnumber</th>\n",
              "      <th>journeynumber</th>\n",
              "      <th>vehiclenumber</th>\n",
              "      <th>userstopcode_start</th>\n",
              "      <th>userstopcode_end</th>\n",
              "      <th>messagetype_begin</th>\n",
              "      <th>messagetype_end</th>\n",
              "      <th>operatingday</th>\n",
              "      <th>departure_time</th>\n",
              "      <th>realized_time</th>\n",
              "      <th>planned_time</th>\n",
              "    </tr>\n",
              "  </thead>\n",
              "  <tbody>\n",
              "    <tr>\n",
              "      <th>3122</th>\n",
              "      <td>1</td>\n",
              "      <td>1005</td>\n",
              "      <td>5149</td>\n",
              "      <td>54261502</td>\n",
              "      <td>53490410</td>\n",
              "      <td>DEPARTURE</td>\n",
              "      <td>ARRIVAL</td>\n",
              "      <td>2021-09-08</td>\n",
              "      <td>2021-09-08 07:07:24</td>\n",
              "      <td>00:32:54</td>\n",
              "      <td>00:32:58</td>\n",
              "    </tr>\n",
              "    <tr>\n",
              "      <th>74041</th>\n",
              "      <td>1</td>\n",
              "      <td>1005</td>\n",
              "      <td>5149</td>\n",
              "      <td>54261502</td>\n",
              "      <td>53490410</td>\n",
              "      <td>DEPARTURE</td>\n",
              "      <td>ARRIVAL</td>\n",
              "      <td>2021-09-08</td>\n",
              "      <td>2021-09-08 07:07:24</td>\n",
              "      <td>00:32:54</td>\n",
              "      <td>00:32:58</td>\n",
              "    </tr>\n",
              "    <tr>\n",
              "      <th>144960</th>\n",
              "      <td>1</td>\n",
              "      <td>1005</td>\n",
              "      <td>5149</td>\n",
              "      <td>54261502</td>\n",
              "      <td>53490410</td>\n",
              "      <td>DEPARTURE</td>\n",
              "      <td>ARRIVAL</td>\n",
              "      <td>2021-09-08</td>\n",
              "      <td>2021-09-08 07:07:24</td>\n",
              "      <td>00:32:54</td>\n",
              "      <td>00:32:58</td>\n",
              "    </tr>\n",
              "    <tr>\n",
              "      <th>215879</th>\n",
              "      <td>1</td>\n",
              "      <td>1005</td>\n",
              "      <td>5149</td>\n",
              "      <td>54261502</td>\n",
              "      <td>53490410</td>\n",
              "      <td>DEPARTURE</td>\n",
              "      <td>ARRIVAL</td>\n",
              "      <td>2021-09-08</td>\n",
              "      <td>2021-09-08 07:07:24</td>\n",
              "      <td>00:32:54</td>\n",
              "      <td>00:32:58</td>\n",
              "    </tr>\n",
              "  </tbody>\n",
              "</table>\n",
              "</div>"
            ],
            "text/plain": [
              "        lineplanningnumber  journeynumber  vehiclenumber  userstopcode_start  \\\n",
              "3122                     1           1005           5149            54261502   \n",
              "74041                    1           1005           5149            54261502   \n",
              "144960                   1           1005           5149            54261502   \n",
              "215879                   1           1005           5149            54261502   \n",
              "\n",
              "        userstopcode_end messagetype_begin messagetype_end operatingday  \\\n",
              "3122            53490410         DEPARTURE         ARRIVAL   2021-09-08   \n",
              "74041           53490410         DEPARTURE         ARRIVAL   2021-09-08   \n",
              "144960          53490410         DEPARTURE         ARRIVAL   2021-09-08   \n",
              "215879          53490410         DEPARTURE         ARRIVAL   2021-09-08   \n",
              "\n",
              "             departure_time realized_time planned_time  \n",
              "3122    2021-09-08 07:07:24      00:32:54     00:32:58  \n",
              "74041   2021-09-08 07:07:24      00:32:54     00:32:58  \n",
              "144960  2021-09-08 07:07:24      00:32:54     00:32:58  \n",
              "215879  2021-09-08 07:07:24      00:32:54     00:32:58  "
            ]
          },
          "execution_count": 87,
          "metadata": {},
          "output_type": "execute_result"
        }
      ],
      "source": [
        "## closer inspection of duplicate rows by a single example\n",
        "inspect_duplicate_rows(dfs['bus_trips'], 3122)"
      ]
    },
    {
      "cell_type": "markdown",
      "metadata": {},
      "source": [
        "Seems many unique rows have 3 duplicates within the data set of bus_trips.csv. Lets see how many exactly"
      ]
    },
    {
      "cell_type": "code",
      "execution_count": null,
      "metadata": {},
      "outputs": [],
      "source": []
    },
    {
      "cell_type": "code",
      "execution_count": null,
      "metadata": {},
      "outputs": [],
      "source": [
        "\n"
      ]
    },
    {
      "cell_type": "markdown",
      "metadata": {},
      "source": [
        "### Data Cleaning"
      ]
    },
    {
      "cell_type": "markdown",
      "metadata": {},
      "source": [
        "bus_trips:\n",
        "- remove duplicates\n",
        "\n",
        "stops:\n",
        "- address missing values\n",
        "\n",
        "ceck_ins:"
      ]
    },
    {
      "cell_type": "code",
      "execution_count": null,
      "metadata": {},
      "outputs": [],
      "source": []
    },
    {
      "cell_type": "code",
      "execution_count": null,
      "metadata": {},
      "outputs": [],
      "source": []
    },
    {
      "cell_type": "markdown",
      "metadata": {},
      "source": [
        "### Feature Engineering"
      ]
    },
    {
      "cell_type": "markdown",
      "metadata": {},
      "source": [
        "### Data Staging"
      ]
    },
    {
      "cell_type": "markdown",
      "metadata": {},
      "source": []
    }
  ],
  "metadata": {
    "kernelspec": {
      "display_name": ".venv",
      "language": "python",
      "name": "python3"
    },
    "language_info": {
      "codemirror_mode": {
        "name": "ipython",
        "version": 3
      },
      "file_extension": ".py",
      "mimetype": "text/x-python",
      "name": "python",
      "nbconvert_exporter": "python",
      "pygments_lexer": "ipython3",
      "version": "3.12.10"
    }
  },
  "nbformat": 4,
  "nbformat_minor": 4
}
