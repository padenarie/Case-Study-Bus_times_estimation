{
  "cells": [
    {
      "cell_type": "markdown",
      "metadata": {
        "collapsed": false,
        "jupyter": {
          "outputs_hidden": false
        }
      },
      "source": [
        "### Case - [Pierre-Antoine Denarié]"
      ]
    },
    {
      "cell_type": "markdown",
      "metadata": {},
      "source": [
        "### TL;DR\n",
        "Objective: predict the time it takes for a bus to travel from first to final stop, at any given point in the future.\n",
        "\n",
        "Points to work out:\n",
        "- correlation between checkin data & scheduling ties length/delta in prediction --> create feature delta time\n",
        "- Join checkin data with scheduling data --> PCA\n",
        "- correlation between stoparea code & join of number of checkins during said Journey\n",
        "\n",
        "Plots:\n",
        "- plot checkins over time\n",
        "\n",
        "features to create:\n",
        "- split checkin data\n",
        "- feature delta time\n"
      ]
    },
    {
      "cell_type": "markdown",
      "metadata": {},
      "source": [
        "### Housekeeping & Imports"
      ]
    },
    {
      "cell_type": "code",
      "execution_count": 1,
      "metadata": {},
      "outputs": [],
      "source": [
        "# Clear all variables from the workspace\n",
        "%reset -f"
      ]
    },
    {
      "cell_type": "code",
      "execution_count": 2,
      "metadata": {
        "ExecuteTime": {
          "end_time": "2025-03-19T02:41:50.594155Z",
          "start_time": "2025-03-19T02:41:50.574436Z"
        },
        "collapsed": false,
        "jupyter": {
          "outputs_hidden": false
        }
      },
      "outputs": [
        {
          "name": "stderr",
          "output_type": "stream",
          "text": [
            "INFO: Pandas backend loaded 2.3.1\n",
            "INFO: Numpy backend loaded 2.1.3\n",
            "INFO: Pyspark backend NOT loaded\n",
            "INFO: Python backend loaded\n"
          ]
        },
        {
          "data": {
            "text/html": [
              "\n",
              "            <div>\n",
              "                <ins><a href=\"https://ydata.ai/register\">Upgrade to ydata-sdk</a></ins>\n",
              "                <p>\n",
              "                    Improve your data and profiling with ydata-sdk, featuring data quality scoring, redundancy detection, outlier identification, text validation, and synthetic data generation.\n",
              "                </p>\n",
              "            </div>\n",
              "            "
            ],
            "text/plain": [
              "<IPython.core.display.HTML object>"
            ]
          },
          "metadata": {},
          "output_type": "display_data"
        }
      ],
      "source": [
        "### Package Imports\n",
        "# System\n",
        "from __future__ import annotations\n",
        "import os\n",
        "from pathlib import Path\n",
        "import re\n",
        "import logging\n",
        "from typing import Dict\n",
        "from functools import partial\n",
        "\n",
        "# Data\n",
        "import numpy as np\n",
        "import pandas as pd\n",
        "\n",
        "# Own packages\n",
        "from src.myfunctions import *\n",
        "\n",
        "# Import visualisation libraries\n",
        "import matplotlib.pyplot as plt\n",
        "from ydata_profiling import ProfileReport\n",
        "\n",
        "# Pretty display for notebooks\n",
        "%matplotlib inline\n",
        "\n",
        "# Setup Logging\n",
        "logging.basicConfig(level=logging.INFO, format=\"%(levelname)s: %(message)s\")\n"
      ]
    },
    {
      "cell_type": "code",
      "execution_count": 3,
      "metadata": {
        "tags": [
          "parameters"
        ]
      },
      "outputs": [],
      "source": [
        "# Parameter\n",
        "DATA_DIR = \"Data\"\n",
        "DATA_RAW_DIR = DATA_DIR + \"/Raw\"\n",
        "PROCESSED_DIR = DATA_DIR + \"/Processed\"\n",
        "\n",
        "REPORTS : str = \"Reports\"\n",
        "PROFILING : str = REPORTS + \"/Profiling\""
      ]
    },
    {
      "cell_type": "markdown",
      "metadata": {},
      "source": [
        "### Data Loading"
      ]
    },
    {
      "cell_type": "code",
      "execution_count": 4,
      "metadata": {
        "trusted": true
      },
      "outputs": [
        {
          "name": "stderr",
          "output_type": "stream",
          "text": [
            "INFO: Loaded bus_trips from bus_trips.csv | shape=(591766, 11)\n",
            "INFO: Loaded check_ins from check_ins.csv | shape=(41923, 2)\n",
            "INFO: Loaded stops from stops.csv | shape=(5636, 3)\n"
          ]
        },
        {
          "name": "stdout",
          "output_type": "stream",
          "text": [
            "dict_keys(['bus_trips', 'check_ins', 'stops'])\n"
          ]
        }
      ],
      "source": [
        "# Clean Data imports\n",
        "dfs = load_csv_folder(DATA_RAW_DIR)\n",
        "print(dfs.keys())"
      ]
    },
    {
      "cell_type": "markdown",
      "metadata": {},
      "source": [
        "### Data exploration"
      ]
    },
    {
      "cell_type": "code",
      "execution_count": 5,
      "metadata": {},
      "outputs": [
        {
          "name": "stderr",
          "output_type": "stream",
          "text": [
            "INFO: Generated profiling report for bus_trips\n",
            "INFO: Generated profiling report for check_ins\n",
            "INFO: Generated profiling report for stops\n"
          ]
        }
      ],
      "source": [
        "# Generate profling reports\n",
        "df_profiles = generate_profiling_reports(dfs, title=\"Data Profiling Report\")"
      ]
    },
    {
      "cell_type": "code",
      "execution_count": 6,
      "metadata": {},
      "outputs": [
        {
          "name": "stderr",
          "output_type": "stream",
          "text": [
            "INFO: Opened profiling report for bus_trips\n",
            "INFO: Opened profiling report for check_ins\n",
            "INFO: Opened profiling report for stops\n"
          ]
        }
      ],
      "source": [
        "# View profiling reports\n",
        "display_profiling_reports_web(profiles=df_profiles)"
      ]
    },
    {
      "cell_type": "code",
      "execution_count": 26,
      "metadata": {},
      "outputs": [
        {
          "name": "stderr",
          "output_type": "stream",
          "text": [
            "INFO: ▶ bus_trips: 0 steps\n",
            "INFO: ▶ check_ins: 1 steps\n",
            "INFO:   - add_feature: (41923, 2) -> (41923, 3) (165 ms)\n",
            "INFO: ▶ stops: 0 steps\n"
          ]
        },
        {
          "ename": "TypeError",
          "evalue": "generate_profiling_reports() got an unexpected keyword argument 'sortby'",
          "output_type": "error",
          "traceback": [
            "\u001b[31m---------------------------------------------------------------------------\u001b[39m",
            "\u001b[31mTypeError\u001b[39m                                 Traceback (most recent call last)",
            "\u001b[36mCell\u001b[39m\u001b[36m \u001b[39m\u001b[32mIn[26]\u001b[39m\u001b[32m, line 10\u001b[39m\n\u001b[32m      2\u001b[39m pipeline = {\n\u001b[32m      3\u001b[39m     \u001b[33m\"\u001b[39m\u001b[33mcheck_ins\u001b[39m\u001b[33m\"\u001b[39m: [\n\u001b[32m      4\u001b[39m         Step(\u001b[33m\"\u001b[39m\u001b[33madd_feature\u001b[39m\u001b[33m\"\u001b[39m, when=has_cols(\u001b[33m\"\u001b[39m\u001b[33mid\u001b[39m\u001b[33m\"\u001b[39m), fn=partial(add_feature, src=\u001b[33m\"\u001b[39m\u001b[33mid\u001b[39m\u001b[33m\"\u001b[39m, dest=\u001b[33m'\u001b[39m\u001b[33mid_Datetime\u001b[39m\u001b[33m'\u001b[39m, function=parse_time_column))\n\u001b[32m      5\u001b[39m     ]\n\u001b[32m      6\u001b[39m }\n\u001b[32m      8\u001b[39m dfs_processed = run_pipeline(dfs, pipeline)\n\u001b[32m---> \u001b[39m\u001b[32m10\u001b[39m display_profiling_reports_web(\u001b[43mgenerate_profiling_reports\u001b[49m\u001b[43m(\u001b[49m\u001b[43mdfs_processed\u001b[49m\u001b[43m,\u001b[49m\u001b[43m \u001b[49m\u001b[43mtitle\u001b[49m\u001b[43m=\u001b[49m\u001b[33;43m\"\u001b[39;49m\u001b[33;43mData Profiling Processed Report\u001b[39;49m\u001b[33;43m\"\u001b[39;49m\u001b[43m,\u001b[49m\u001b[43m \u001b[49m\u001b[43mtimeseries\u001b[49m\u001b[43m=\u001b[49m\u001b[38;5;28;43;01mTrue\u001b[39;49;00m\u001b[43m,\u001b[49m\u001b[43m \u001b[49m\u001b[43msortby\u001b[49m\u001b[43m=\u001b[49m\u001b[33;43m\"\u001b[39;49m\u001b[33;43mid_Datetime\u001b[39;49m\u001b[33;43m\"\u001b[39;49m\u001b[43m)\u001b[49m, refresh_results=\u001b[38;5;28;01mFalse\u001b[39;00m)\n",
            "\u001b[31mTypeError\u001b[39m: generate_profiling_reports() got an unexpected keyword argument 'sortby'"
          ]
        }
      ],
      "source": [
        "# Display time series data\n",
        "pipeline = {\n",
        "    \"check_ins\": [\n",
        "        Step(\"add_feature\", when=has_cols(\"id\"), fn=partial(add_feature, src=\"id\", dest='id_Datetime', function=parse_time_column))\n",
        "    ]\n",
        "}\n",
        "\n",
        "dfs_processed = run_pipeline(dfs, pipeline)\n",
        "\n",
        "display_profiling_reports_web(generate_profiling_reports(dfs_processed, title=\"Data Profiling Processed Report\", timeseries=True, sortby=\"id_Datetime\"), refresh_results=False)\n"
      ]
    },
    {
      "cell_type": "code",
      "execution_count": 27,
      "metadata": {},
      "outputs": [
        {
          "data": {
            "text/html": [
              "<div>\n",
              "<style scoped>\n",
              "    .dataframe tbody tr th:only-of-type {\n",
              "        vertical-align: middle;\n",
              "    }\n",
              "\n",
              "    .dataframe tbody tr th {\n",
              "        vertical-align: top;\n",
              "    }\n",
              "\n",
              "    .dataframe thead th {\n",
              "        text-align: right;\n",
              "    }\n",
              "</style>\n",
              "<table border=\"1\" class=\"dataframe\">\n",
              "  <thead>\n",
              "    <tr style=\"text-align: right;\">\n",
              "      <th></th>\n",
              "      <th>lineplanningnumber</th>\n",
              "      <th>journeynumber</th>\n",
              "      <th>vehiclenumber</th>\n",
              "      <th>userstopcode_start</th>\n",
              "      <th>userstopcode_end</th>\n",
              "      <th>messagetype_begin</th>\n",
              "      <th>messagetype_end</th>\n",
              "      <th>operatingday</th>\n",
              "      <th>departure_time</th>\n",
              "      <th>realized_time</th>\n",
              "      <th>planned_time</th>\n",
              "    </tr>\n",
              "  </thead>\n",
              "  <tbody>\n",
              "    <tr>\n",
              "      <th>0</th>\n",
              "      <td>1</td>\n",
              "      <td>1001</td>\n",
              "      <td>5106</td>\n",
              "      <td>54261502</td>\n",
              "      <td>53490410</td>\n",
              "      <td>DEPARTURE</td>\n",
              "      <td>ARRIVAL</td>\n",
              "      <td>2023-12-12</td>\n",
              "      <td>2023-12-12 06:16:39</td>\n",
              "      <td>00:27:33</td>\n",
              "      <td>00:30:55</td>\n",
              "    </tr>\n",
              "    <tr>\n",
              "      <th>70919</th>\n",
              "      <td>1</td>\n",
              "      <td>1001</td>\n",
              "      <td>5106</td>\n",
              "      <td>54261502</td>\n",
              "      <td>53490410</td>\n",
              "      <td>DEPARTURE</td>\n",
              "      <td>ARRIVAL</td>\n",
              "      <td>2023-12-12</td>\n",
              "      <td>2023-12-12 06:16:39</td>\n",
              "      <td>00:27:33</td>\n",
              "      <td>00:30:55</td>\n",
              "    </tr>\n",
              "    <tr>\n",
              "      <th>141838</th>\n",
              "      <td>1</td>\n",
              "      <td>1001</td>\n",
              "      <td>5106</td>\n",
              "      <td>54261502</td>\n",
              "      <td>53490410</td>\n",
              "      <td>DEPARTURE</td>\n",
              "      <td>ARRIVAL</td>\n",
              "      <td>2023-12-12</td>\n",
              "      <td>2023-12-12 06:16:39</td>\n",
              "      <td>00:27:33</td>\n",
              "      <td>00:30:55</td>\n",
              "    </tr>\n",
              "    <tr>\n",
              "      <th>212757</th>\n",
              "      <td>1</td>\n",
              "      <td>1001</td>\n",
              "      <td>5106</td>\n",
              "      <td>54261502</td>\n",
              "      <td>53490410</td>\n",
              "      <td>DEPARTURE</td>\n",
              "      <td>ARRIVAL</td>\n",
              "      <td>2023-12-12</td>\n",
              "      <td>2023-12-12 06:16:39</td>\n",
              "      <td>00:27:33</td>\n",
              "      <td>00:30:55</td>\n",
              "    </tr>\n",
              "  </tbody>\n",
              "</table>\n",
              "</div>"
            ],
            "text/plain": [
              "        lineplanningnumber  journeynumber  vehiclenumber  userstopcode_start  \\\n",
              "0                        1           1001           5106            54261502   \n",
              "70919                    1           1001           5106            54261502   \n",
              "141838                   1           1001           5106            54261502   \n",
              "212757                   1           1001           5106            54261502   \n",
              "\n",
              "        userstopcode_end messagetype_begin messagetype_end operatingday  \\\n",
              "0               53490410         DEPARTURE         ARRIVAL   2023-12-12   \n",
              "70919           53490410         DEPARTURE         ARRIVAL   2023-12-12   \n",
              "141838          53490410         DEPARTURE         ARRIVAL   2023-12-12   \n",
              "212757          53490410         DEPARTURE         ARRIVAL   2023-12-12   \n",
              "\n",
              "             departure_time realized_time planned_time  \n",
              "0       2023-12-12 06:16:39      00:27:33     00:30:55  \n",
              "70919   2023-12-12 06:16:39      00:27:33     00:30:55  \n",
              "141838  2023-12-12 06:16:39      00:27:33     00:30:55  \n",
              "212757  2023-12-12 06:16:39      00:27:33     00:30:55  "
            ]
          },
          "execution_count": 27,
          "metadata": {},
          "output_type": "execute_result"
        }
      ],
      "source": [
        "## closer inspection of duplicate rows\n",
        "dfs['bus_trips'][(dfs['bus_trips'] == dfs['bus_trips'].iloc[0]).all(axis=1)]"
      ]
    },
    {
      "cell_type": "code",
      "execution_count": 44,
      "metadata": {},
      "outputs": [
        {
          "data": {
            "text/html": [
              "<div>\n",
              "<style scoped>\n",
              "    .dataframe tbody tr th:only-of-type {\n",
              "        vertical-align: middle;\n",
              "    }\n",
              "\n",
              "    .dataframe tbody tr th {\n",
              "        vertical-align: top;\n",
              "    }\n",
              "\n",
              "    .dataframe thead th {\n",
              "        text-align: right;\n",
              "    }\n",
              "</style>\n",
              "<table border=\"1\" class=\"dataframe\">\n",
              "  <thead>\n",
              "    <tr style=\"text-align: right;\">\n",
              "      <th></th>\n",
              "      <th>id</th>\n",
              "      <th>number_of_check_ins</th>\n",
              "      <th>id_Datetime</th>\n",
              "      <th>id_Parsed</th>\n",
              "    </tr>\n",
              "  </thead>\n",
              "  <tbody>\n",
              "    <tr>\n",
              "      <th>0</th>\n",
              "      <td>2020_1_1_0</td>\n",
              "      <td>3.1</td>\n",
              "      <td>2020-01-01 00:00:00</td>\n",
              "      <td>2020-01-01 00:00:00</td>\n",
              "    </tr>\n",
              "    <tr>\n",
              "      <th>1</th>\n",
              "      <td>2020_1_1_1</td>\n",
              "      <td>6.6</td>\n",
              "      <td>2020-01-01 01:00:00</td>\n",
              "      <td>2020-01-01 01:00:00</td>\n",
              "    </tr>\n",
              "    <tr>\n",
              "      <th>2</th>\n",
              "      <td>2020_1_1_2</td>\n",
              "      <td>7.7</td>\n",
              "      <td>2020-01-01 02:00:00</td>\n",
              "      <td>2020-01-01 02:00:00</td>\n",
              "    </tr>\n",
              "    <tr>\n",
              "      <th>3</th>\n",
              "      <td>2020_1_1_3</td>\n",
              "      <td>6.7</td>\n",
              "      <td>2020-01-01 03:00:00</td>\n",
              "      <td>2020-01-01 03:00:00</td>\n",
              "    </tr>\n",
              "    <tr>\n",
              "      <th>4</th>\n",
              "      <td>2020_1_1_4</td>\n",
              "      <td>6.6</td>\n",
              "      <td>2020-01-01 04:00:00</td>\n",
              "      <td>2020-01-01 04:00:00</td>\n",
              "    </tr>\n",
              "    <tr>\n",
              "      <th>...</th>\n",
              "      <td>...</td>\n",
              "      <td>...</td>\n",
              "      <td>...</td>\n",
              "      <td>...</td>\n",
              "    </tr>\n",
              "    <tr>\n",
              "      <th>41918</th>\n",
              "      <td>2024_10_12_19</td>\n",
              "      <td>130.1</td>\n",
              "      <td>2024-10-12 19:00:00</td>\n",
              "      <td>2024-10-12 19:00:00</td>\n",
              "    </tr>\n",
              "    <tr>\n",
              "      <th>41919</th>\n",
              "      <td>2024_10_12_20</td>\n",
              "      <td>104.1</td>\n",
              "      <td>2024-10-12 20:00:00</td>\n",
              "      <td>2024-10-12 20:00:00</td>\n",
              "    </tr>\n",
              "    <tr>\n",
              "      <th>41920</th>\n",
              "      <td>2024_10_12_21</td>\n",
              "      <td>87.5</td>\n",
              "      <td>2024-10-12 21:00:00</td>\n",
              "      <td>2024-10-12 21:00:00</td>\n",
              "    </tr>\n",
              "    <tr>\n",
              "      <th>41921</th>\n",
              "      <td>2024_10_12_22</td>\n",
              "      <td>95.4</td>\n",
              "      <td>2024-10-12 22:00:00</td>\n",
              "      <td>2024-10-12 22:00:00</td>\n",
              "    </tr>\n",
              "    <tr>\n",
              "      <th>41922</th>\n",
              "      <td>2024_10_12_23</td>\n",
              "      <td>87.3</td>\n",
              "      <td>2024-10-12 23:00:00</td>\n",
              "      <td>2024-10-12 23:00:00</td>\n",
              "    </tr>\n",
              "  </tbody>\n",
              "</table>\n",
              "<p>41923 rows × 4 columns</p>\n",
              "</div>"
            ],
            "text/plain": [
              "                  id  number_of_check_ins         id_Datetime  \\\n",
              "0         2020_1_1_0                  3.1 2020-01-01 00:00:00   \n",
              "1         2020_1_1_1                  6.6 2020-01-01 01:00:00   \n",
              "2         2020_1_1_2                  7.7 2020-01-01 02:00:00   \n",
              "3         2020_1_1_3                  6.7 2020-01-01 03:00:00   \n",
              "4         2020_1_1_4                  6.6 2020-01-01 04:00:00   \n",
              "...              ...                  ...                 ...   \n",
              "41918  2024_10_12_19                130.1 2024-10-12 19:00:00   \n",
              "41919  2024_10_12_20                104.1 2024-10-12 20:00:00   \n",
              "41920  2024_10_12_21                 87.5 2024-10-12 21:00:00   \n",
              "41921  2024_10_12_22                 95.4 2024-10-12 22:00:00   \n",
              "41922  2024_10_12_23                 87.3 2024-10-12 23:00:00   \n",
              "\n",
              "                id_Parsed  \n",
              "0     2020-01-01 00:00:00  \n",
              "1     2020-01-01 01:00:00  \n",
              "2     2020-01-01 02:00:00  \n",
              "3     2020-01-01 03:00:00  \n",
              "4     2020-01-01 04:00:00  \n",
              "...                   ...  \n",
              "41918 2024-10-12 19:00:00  \n",
              "41919 2024-10-12 20:00:00  \n",
              "41920 2024-10-12 21:00:00  \n",
              "41921 2024-10-12 22:00:00  \n",
              "41922 2024-10-12 23:00:00  \n",
              "\n",
              "[41923 rows x 4 columns]"
            ]
          },
          "execution_count": 44,
          "metadata": {},
          "output_type": "execute_result"
        }
      ],
      "source": [
        "dfs['check_ins'].pipe(add_feature, src='id', dest='id_Parsed', function=parse_time_column, overwrite=True)"
      ]
    },
    {
      "cell_type": "markdown",
      "metadata": {},
      "source": [
        "### Data Cleaning"
      ]
    },
    {
      "cell_type": "code",
      "execution_count": null,
      "metadata": {},
      "outputs": [],
      "source": []
    },
    {
      "cell_type": "code",
      "execution_count": null,
      "metadata": {},
      "outputs": [],
      "source": []
    },
    {
      "cell_type": "markdown",
      "metadata": {},
      "source": [
        "### Feature Engineering"
      ]
    },
    {
      "cell_type": "markdown",
      "metadata": {},
      "source": [
        "### Data Staging"
      ]
    },
    {
      "cell_type": "markdown",
      "metadata": {},
      "source": []
    }
  ],
  "metadata": {
    "kernelspec": {
      "display_name": ".venv",
      "language": "python",
      "name": "python3"
    },
    "language_info": {
      "codemirror_mode": {
        "name": "ipython",
        "version": 3
      },
      "file_extension": ".py",
      "mimetype": "text/x-python",
      "name": "python",
      "nbconvert_exporter": "python",
      "pygments_lexer": "ipython3",
      "version": "3.12.10"
    }
  },
  "nbformat": 4,
  "nbformat_minor": 4
}
